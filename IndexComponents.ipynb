{
 "cells": [
  {
   "cell_type": "code",
   "execution_count": 1,
   "metadata": {},
   "outputs": [
    {
     "data": {
      "text/html": [
       "<style>.container { width:100% !important; }</style>"
      ],
      "text/plain": [
       "<IPython.core.display.HTML object>"
      ]
     },
     "metadata": {},
     "output_type": "display_data"
    }
   ],
   "source": [
    "import requests\n",
    "import yfinance as yf\n",
    "from bs4 import BeautifulSoup as bs\n",
    "import pandas as pd\n",
    "import datetime as dt\n",
    "import pickle\n",
    "import pprint as pp\n",
    "from IPython.core.display import display, HTML\n",
    "display(HTML(\"<style>.container { width:100% !important; }</style>\"))"
   ]
  },
  {
   "cell_type": "code",
   "execution_count": 5,
   "metadata": {},
   "outputs": [],
   "source": [
    "def getSP500():\n",
    "    resp = requests.get('http://en.wikipedia.org/wiki/List_of_S%26P_500_companies')\n",
    "    soup = bs(resp.text, 'lxml')\n",
    "    table = soup.find('table', {'class': 'wikitable sortable', 'id': \"constituents\"})\n",
    "    tickers_data = []\n",
    "    for row in table.findAll('tr')[1:]:\n",
    "        ticker_ = row.findAll('td')[0].text.rstrip()\n",
    "        name_ = row.findAll('td')[1].text.rstrip()\n",
    "        gics1_ = row.findAll('td')[3].text.rstrip()\n",
    "        gics2_ = row.findAll('td')[4].text.rstrip()\n",
    "        tickers_data.append([ticker_, name_, gics1_, gics2_])\n",
    "    return tickers_data"
   ]
  },
  {
   "cell_type": "code",
   "execution_count": 6,
   "metadata": {},
   "outputs": [],
   "source": [
    "def getNasdaq100():\n",
    "    resp = requests.get('https://en.wikipedia.org/wiki/NASDAQ-100')\n",
    "    soup = bs(resp.text, 'lxml')\n",
    "    table = soup.find('table', {'class': 'wikitable sortable', 'id': \"constituents\"})\n",
    "    tickers_ = []\n",
    "    for row in table.findAll('tr')[1:]:\n",
    "        ticker_ = row.findAll('td')[1].text.rstrip()\n",
    "        tickers_.append(ticker_)\n",
    "    return tickers_"
   ]
  },
  {
   "cell_type": "code",
   "execution_count": 7,
   "metadata": {},
   "outputs": [],
   "source": [
    "def getDow30():\n",
    "    ticks = ['MMM', 'AXP', 'AAPL', 'BA', 'CAT', 'CVX', 'CSCO', 'KO', 'DIS', 'DOW', 'XOM', 'GS', 'HD', 'IBM', 'INTC', \n",
    "             'JNJ', 'JPM', 'MCD', 'MRK', 'MSFT', 'NKE', 'PFE', 'PG', 'RTX', 'TRV', 'UNH', 'VZ', 'V', 'WMT', 'WBA'] \n",
    "    return ticks"
   ]
  },
  {
   "cell_type": "code",
   "execution_count": 8,
   "metadata": {},
   "outputs": [],
   "source": [
    "def getRussell2000():\n",
    "    with open(\"../StockResearch/Russell2000.txt\", \"r\") as f:\n",
    "        content = f.readlines()\n",
    "        content = [x.strip() for x in content]\n",
    "        russell_ = []\n",
    "        for row_, line_ in enumerate(content):\n",
    "            if row_ % 2 == 0:\n",
    "                russell_.append([line_])\n",
    "            else:\n",
    "                russell_[int(row_/2)].extend(line_.split(\"\\t\"))\n",
    "        for stock in russell_:\n",
    "            del(stock[4])\n",
    "    return russell_"
   ]
  },
  {
   "cell_type": "code",
   "execution_count": 146,
   "metadata": {
    "scrolled": false
   },
   "outputs": [],
   "source": [
    "sp_ = getSP500()\n",
    "naq_ = getNasdaq100()\n",
    "dow_ = getDow30()\n",
    "rus_ = getRussell2000()"
   ]
  },
  {
   "cell_type": "code",
   "execution_count": 109,
   "metadata": {},
   "outputs": [],
   "source": [
    "tickers_sp = [ticker_[0] for ticker_ in sp_]\n",
    "tickers_naq = naq_\n",
    "tickers_dow = dow_\n",
    "#tickers_rus = [ticker_[0] for ticker_ in rus_]"
   ]
  },
  {
   "cell_type": "code",
   "execution_count": 147,
   "metadata": {},
   "outputs": [
    {
     "name": "stdout",
     "output_type": "stream",
     "text": [
      "Nasdaq stocks not in the SP500:\n",
      "{'SGEN', 'TCOM', 'ASML', 'WDAY', 'SPLK', 'LBTYA', 'NXPI', 'ZM', 'SIRI', 'MELI', 'JD', 'CHKP', 'LBTYK', 'NTES', 'BIDU', 'LULU', 'TSLA', 'CSGP', 'BMRN'}\n",
      "Dow stocks not in the SP500:\n",
      "set()\n",
      "[['AAN', \"Aaron's Inc\", 'Consumer Discretionary', 'Specialty Retail'], ['AAOI', 'Applied Optoelectronics Inc', 'Information Technology', 'Communications Equipment'], ['AAON', 'Aaon Inc', 'Industrials', 'Building Products'], ['AAT', 'American Assets Trust Inc', 'Real Estate', 'Equity Real Estate Investment Trusts (REITs)'], ['AAWW', 'Atlas Air Worldwide Holdings Inc', 'Industrials', 'Air Freight & Logistics']]\n"
     ]
    }
   ],
   "source": [
    "print(f'Nasdaq stocks not in the SP500:\\n{set(tickers_naq) - set(tickers_sp)}')\n",
    "print(f'Dow stocks not in the SP500:\\n{set(tickers_dow) - set(tickers_sp)}')"
   ]
  },
  {
   "cell_type": "code",
   "execution_count": 128,
   "metadata": {},
   "outputs": [],
   "source": [
    "add_to_sp = {\n",
    " 'ASML' : ['ASML Holding N.V.', 'Information Technology', 'Semiconductor Equipment'],\n",
    " 'BIDU' : ['Baidu, Inc.', 'Communication Services', 'Interactive Media & Services'],\n",
    " 'BMRN' : ['BioMarin Pharmaceutical Inc.', 'Health Care', 'Biotechnology'],\n",
    " 'CHKP' : ['Check Point Software Technologies Ltd.', 'Information Technology', 'Software'],\n",
    " 'CSGP' : ['CoStar Group, Inc.', 'Industrials', 'Professional Services'],\n",
    " 'JD'   : ['JD.com, Inc.', 'Consumer Discretionary', 'Internet & Direct Marketing Retail'],\n",
    " 'LBTYA': ['Liberty Global plc', 'Communication Services', 'Diversified Telecommunication Services'],\n",
    " 'LBTYK': ['Liberty Global plc', 'Communication Services', 'Diversified Telecommunication Services'],\n",
    " 'LULU' : ['Lululemon Athletica Inc.', 'Consumer Discretionary', 'Textiles, Apparel & Luxury Goods'],\n",
    " 'MELI' : ['MercadoLibre, Inc.', 'Consumer Discretionary', 'Internet & Direct Marketing Retail'],\n",
    " 'NTES' : ['NetEase, Inc.', 'Communication Services', 'Entertainment'],\n",
    " 'NXPI' : ['NXP Semiconductors N.V.', 'Information Technology', 'Semiconductor Equipment'],\n",
    " 'SGEN' : ['Seattle Genetics, Inc.', 'Health Care', 'Biotechnology'],\n",
    " 'SIRI' : ['Sirius XM Holdings Inc.', 'Communication Services', 'Media'],\n",
    " 'SPLK' : ['Splunk Inc.', 'Information Technology', 'Software'],\n",
    " 'TSLA' : ['Tesla, Inc.', 'Consumer Discretionary', 'Automobiles'],\n",
    " 'TCOM' : ['Trip.com', 'Consumer Discretionary', 'Internet & Direct Marketing Retail'],\n",
    " 'WDAY' : ['Workday, Inc.', 'Information Technology', 'Software'],\n",
    " 'ZM'   : ['Zoom Video Communications, Inc.', 'Information Technology', 'Software']}"
   ]
  },
  {
   "cell_type": "code",
   "execution_count": 161,
   "metadata": {},
   "outputs": [
    {
     "data": {
      "text/html": [
       "<div>\n",
       "<style scoped>\n",
       "    .dataframe tbody tr th:only-of-type {\n",
       "        vertical-align: middle;\n",
       "    }\n",
       "\n",
       "    .dataframe tbody tr th {\n",
       "        vertical-align: top;\n",
       "    }\n",
       "\n",
       "    .dataframe thead th {\n",
       "        text-align: right;\n",
       "    }\n",
       "</style>\n",
       "<table border=\"1\" class=\"dataframe\">\n",
       "  <thead>\n",
       "    <tr style=\"text-align: right;\">\n",
       "      <th></th>\n",
       "      <th>Name</th>\n",
       "      <th>GICS-1</th>\n",
       "      <th>GICS-2</th>\n",
       "    </tr>\n",
       "  </thead>\n",
       "  <tbody>\n",
       "    <tr>\n",
       "      <th>MMM</th>\n",
       "      <td>3M Company</td>\n",
       "      <td>Industrials</td>\n",
       "      <td>Industrial Conglomerates</td>\n",
       "    </tr>\n",
       "    <tr>\n",
       "      <th>ABT</th>\n",
       "      <td>Abbott Laboratories</td>\n",
       "      <td>Health Care</td>\n",
       "      <td>Health Care Equipment</td>\n",
       "    </tr>\n",
       "    <tr>\n",
       "      <th>ABBV</th>\n",
       "      <td>AbbVie Inc.</td>\n",
       "      <td>Health Care</td>\n",
       "      <td>Pharmaceuticals</td>\n",
       "    </tr>\n",
       "    <tr>\n",
       "      <th>ABMD</th>\n",
       "      <td>ABIOMED Inc</td>\n",
       "      <td>Health Care</td>\n",
       "      <td>Health Care Equipment</td>\n",
       "    </tr>\n",
       "    <tr>\n",
       "      <th>ACN</th>\n",
       "      <td>Accenture plc</td>\n",
       "      <td>Information Technology</td>\n",
       "      <td>IT Consulting &amp; Other Services</td>\n",
       "    </tr>\n",
       "    <tr>\n",
       "      <th>...</th>\n",
       "      <td>...</td>\n",
       "      <td>...</td>\n",
       "      <td>...</td>\n",
       "    </tr>\n",
       "    <tr>\n",
       "      <th>SPLK</th>\n",
       "      <td>Splunk Inc.</td>\n",
       "      <td>Information Technology</td>\n",
       "      <td>Software</td>\n",
       "    </tr>\n",
       "    <tr>\n",
       "      <th>TSLA</th>\n",
       "      <td>Tesla, Inc.</td>\n",
       "      <td>Consumer Discretionary</td>\n",
       "      <td>Automobiles</td>\n",
       "    </tr>\n",
       "    <tr>\n",
       "      <th>TCOM</th>\n",
       "      <td>Trip.com</td>\n",
       "      <td>Consumer Discretionary</td>\n",
       "      <td>Internet &amp; Direct Marketing Retail</td>\n",
       "    </tr>\n",
       "    <tr>\n",
       "      <th>WDAY</th>\n",
       "      <td>Workday, Inc.</td>\n",
       "      <td>Information Technology</td>\n",
       "      <td>Software</td>\n",
       "    </tr>\n",
       "    <tr>\n",
       "      <th>ZM</th>\n",
       "      <td>Zoom Video Communications, Inc.</td>\n",
       "      <td>Information Technology</td>\n",
       "      <td>Software</td>\n",
       "    </tr>\n",
       "  </tbody>\n",
       "</table>\n",
       "<p>2480 rows × 3 columns</p>\n",
       "</div>"
      ],
      "text/plain": [
       "                                 Name                  GICS-1  \\\n",
       "MMM                        3M Company             Industrials   \n",
       "ABT               Abbott Laboratories             Health Care   \n",
       "ABBV                      AbbVie Inc.             Health Care   \n",
       "ABMD                      ABIOMED Inc             Health Care   \n",
       "ACN                     Accenture plc  Information Technology   \n",
       "...                               ...                     ...   \n",
       "SPLK                      Splunk Inc.  Information Technology   \n",
       "TSLA                      Tesla, Inc.  Consumer Discretionary   \n",
       "TCOM                         Trip.com  Consumer Discretionary   \n",
       "WDAY                    Workday, Inc.  Information Technology   \n",
       "ZM    Zoom Video Communications, Inc.  Information Technology   \n",
       "\n",
       "                                  GICS-2  \n",
       "MMM             Industrial Conglomerates  \n",
       "ABT                Health Care Equipment  \n",
       "ABBV                     Pharmaceuticals  \n",
       "ABMD               Health Care Equipment  \n",
       "ACN       IT Consulting & Other Services  \n",
       "...                                  ...  \n",
       "SPLK                            Software  \n",
       "TSLA                         Automobiles  \n",
       "TCOM  Internet & Direct Marketing Retail  \n",
       "WDAY                            Software  \n",
       "ZM                              Software  \n",
       "\n",
       "[2480 rows x 3 columns]"
      ]
     },
     "execution_count": 161,
     "metadata": {},
     "output_type": "execute_result"
    }
   ],
   "source": [
    "sp_df = pd.DataFrame(sp_, columns = [\"Ticker\", \"Name\", \"GICS-1\", \"GICS-2\"]).set_index('Ticker')\n",
    "rus_df = pd.DataFrame(rus_, columns = [\"Ticker\", \"Name\", \"GICS-1\", \"GICS-2\"]).set_index('Ticker')\n",
    "add_to_sp_df = pd.DataFrame.from_dict(add_to_sp, orient = 'index', columns = ['Name', 'GICS-1', 'GICS-2'])\n",
    "\n",
    "total_df = sp_df.append(rus_df)\n",
    "total_df = total_df.append(add_to_sp_df)\n",
    "total_df"
   ]
  },
  {
   "cell_type": "code",
   "execution_count": 162,
   "metadata": {},
   "outputs": [],
   "source": [
    "naq_df = total_df.loc[tickers_naq]\n",
    "dow_df = total_df.loc[tickers_dow]\n",
    "with open(\"IndexComponents.pickle\",\"wb\") as f:\n",
    "    pickle.dump([sp_df, naq_df, dow_df, rus_df], f)"
   ]
  },
  {
   "cell_type": "code",
   "execution_count": 2,
   "metadata": {},
   "outputs": [],
   "source": [
    "with open(\"IndexComponents.pickle\",\"rb\") as f:\n",
    "    [sp_df, naq_df, dow_df, rus_df] = pickle.load(f)"
   ]
  },
  {
   "cell_type": "code",
   "execution_count": 13,
   "metadata": {},
   "outputs": [],
   "source": [
    "writer_ =  pd.ExcelWriter(\"IndexComponents\" + '.xlsx', engine = 'xlsxwriter')\n",
    "sp_df.to_excel(writer_, \"S&P500\", index = True)\n",
    "naq_df.to_excel(writer_, \"NQ100\", index = True)\n",
    "dow_df.to_excel(writer_, \"Dow30\", index = True)\n",
    "rus_df.to_excel(writer_, \"Russell2000\", index = True)\n",
    "writer_.save()"
   ]
  },
  {
   "cell_type": "code",
   "execution_count": null,
   "metadata": {},
   "outputs": [],
   "source": []
  }
 ],
 "metadata": {
  "kernelspec": {
   "display_name": "Python 3",
   "language": "python",
   "name": "python3"
  },
  "language_info": {
   "codemirror_mode": {
    "name": "ipython",
    "version": 3
   },
   "file_extension": ".py",
   "mimetype": "text/x-python",
   "name": "python",
   "nbconvert_exporter": "python",
   "pygments_lexer": "ipython3",
   "version": "3.7.3"
  }
 },
 "nbformat": 4,
 "nbformat_minor": 4
}
