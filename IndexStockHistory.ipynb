{
 "cells": [
  {
   "cell_type": "code",
   "execution_count": 15,
   "metadata": {},
   "outputs": [
    {
     "data": {
      "text/html": [
       "<style>.container { width:100% !important; }</style>"
      ],
      "text/plain": [
       "<IPython.core.display.HTML object>"
      ]
     },
     "metadata": {},
     "output_type": "display_data"
    }
   ],
   "source": [
    "from bs4 import BeautifulSoup as bs\n",
    "import pandas as pd\n",
    "import requests\n",
    "import yfinance as yf\n",
    "import datetime\n",
    "import requests\n",
    "import pickle\n",
    "from IPython.core.display import display, HTML\n",
    "display(HTML(\"<style>.container { width:100% !important; }</style>\"))"
   ]
  },
  {
   "cell_type": "code",
   "execution_count": 3,
   "metadata": {},
   "outputs": [],
   "source": [
    "with open(\"IndexComponents.pickle\",\"rb\") as f:\n",
    "    [sp_df, naq_df, dow_df, rus_df] = pickle.load(f)"
   ]
  },
  {
   "cell_type": "code",
   "execution_count": 45,
   "metadata": {},
   "outputs": [],
   "source": [
    "tickers_sp = sp_df.index.to_list()\n",
    "tickers_naq = naq_df.index.to_list()\n",
    "tickers_dow = dow_df.index.to_list()\n",
    "tickers_rus = rus_df.index.to_list()"
   ]
  },
  {
   "cell_type": "code",
   "execution_count": 13,
   "metadata": {},
   "outputs": [
    {
     "name": "stdout",
     "output_type": "stream",
     "text": [
      "[*********************100%***********************]  1 of 1 completed\n",
      "[*********************100%***********************]  1 of 1 completed\n",
      "[*********************100%***********************]  1 of 1 completed\n",
      "[*********************100%***********************]  1 of 1 completed\n"
     ]
    }
   ],
   "source": [
    "sp_ind_data = yf.download(['^GSPC'], start='2010-01-01', end='2020-06-01')\n",
    "naq_ind_data = yf.download(['^IXIC'], start='2010-01-01', end='2020-06-01')\n",
    "dow_ind_data = yf.download(['^DJI'],  start='2010-01-01', end='2020-06-01')\n",
    "rus_ind_data = yf.download(['^RUT'],  start='2010-01-01', end='2020-06-01')"
   ]
  },
  {
   "cell_type": "code",
   "execution_count": 266,
   "metadata": {},
   "outputs": [],
   "source": [
    "index_dict = {}\n",
    "index_dict['SP500'] = sp_ind_data\n",
    "index_dict['NQ100'] = naq_ind_data\n",
    "index_dict['DJ30'] = dow_ind_data\n",
    "index_dict['RUS2000'] = rus_ind_data"
   ]
  },
  {
   "cell_type": "code",
   "execution_count": 193,
   "metadata": {},
   "outputs": [
    {
     "name": "stdout",
     "output_type": "stream",
     "text": [
      "[*********************100%***********************]  505 of 505 completed\n",
      "\n",
      "2 Failed downloads:\n",
      "- BRK.B: No data found, symbol may be delisted\n",
      "- BF.B: No data found for this date range, symbol may be delisted\n",
      "[*********************100%***********************]  103 of 103 completed\n",
      "[*********************100%***********************]  30 of 30 completed\n"
     ]
    }
   ],
   "source": [
    "ticker_dict = {}\n",
    "ticker_dict['SP500'] = yf.download([ticker_ for ticker_ in tickers_sp], start='2010-01-01', end='2020-06-01')\n",
    "ticker_dict['NQ100'] = yf.download([ticker_ for ticker_ in tickers_naq], start='2010-01-01', end='2020-06-01')\n",
    "ticker_dict['DJ30'] = yf.download([ticker_ for ticker_ in tickers_dow], start='2010-01-01', end='2020-06-01')"
   ]
  },
  {
   "cell_type": "code",
   "execution_count": 194,
   "metadata": {},
   "outputs": [
    {
     "name": "stdout",
     "output_type": "stream",
     "text": [
      "[*********************100%***********************]  100 of 100 completed\n"
     ]
    }
   ],
   "source": [
    "ticker_dict['RUS2000'] = yf.download([ticker_ for ticker_ in tickers_rus[:100]], start='2010-01-01', end='2020-06-01')"
   ]
  },
  {
   "cell_type": "code",
   "execution_count": 196,
   "metadata": {},
   "outputs": [
    {
     "name": "stdout",
     "output_type": "stream",
     "text": [
      "[*********************100%***********************]  100 of 100 completed\n"
     ]
    }
   ],
   "source": [
    "ticker_dict['RUS2000'] = ticker_dict['RUS2000'].join(yf.download([ticker_ for ticker_ in tickers_rus[100:200]], how='outer')).sort_index(1)"
   ]
  },
  {
   "cell_type": "code",
   "execution_count": 197,
   "metadata": {},
   "outputs": [
    {
     "name": "stdout",
     "output_type": "stream",
     "text": [
      "[*********************100%***********************]  100 of 100 completed\n"
     ]
    }
   ],
   "source": [
    "ticker_dict['RUS2000'] = ticker_dict['RUS2000'].join(yf.download([ticker_ for ticker_ in tickers_rus[200:300]], how='outer')).sort_index(1)"
   ]
  },
  {
   "cell_type": "code",
   "execution_count": null,
   "metadata": {},
   "outputs": [],
   "source": [
    "ticker_dict['RUS2000'] = ticker_dict['RUS2000'].join(yf.download([ticker_ for ticker_ in tickers_rus[300:400]], how='outer')).sort_index(1)"
   ]
  },
  {
   "cell_type": "code",
   "execution_count": 208,
   "metadata": {},
   "outputs": [
    {
     "name": "stdout",
     "output_type": "stream",
     "text": [
      "[*********************100%***********************]  40 of 40 completedmpleted\n",
      "[***************************125%*****************************]  50 of 40 completed"
     ]
    }
   ],
   "source": [
    "ticker_dict['RUS2000'] = ticker_dict['RUS2000'].join(yf.download([ticker_ for ticker_ in tickers_rus[400:440]], how='outer')).sort_index(1)"
   ]
  },
  {
   "cell_type": "code",
   "execution_count": 222,
   "metadata": {},
   "outputs": [
    {
     "name": "stdout",
     "output_type": "stream",
     "text": [
      "[*********************100%***********************]  100 of 100 completed\n"
     ]
    }
   ],
   "source": [
    "ticker_dict['RUS2000'] = ticker_dict['RUS2000'].join(yf.download([ticker_ for ticker_ in tickers_rus[500:600]], how='outer')).sort_index(1)"
   ]
  },
  {
   "cell_type": "code",
   "execution_count": 223,
   "metadata": {},
   "outputs": [
    {
     "name": "stdout",
     "output_type": "stream",
     "text": [
      "[*********************100%***********************]  100 of 100 completed\n"
     ]
    }
   ],
   "source": [
    "ticker_dict['RUS2000'] = ticker_dict['RUS2000'].join(yf.download([ticker_ for ticker_ in tickers_rus[600:700]], how='outer')).sort_index(1)"
   ]
  },
  {
   "cell_type": "code",
   "execution_count": 227,
   "metadata": {},
   "outputs": [
    {
     "name": "stdout",
     "output_type": "stream",
     "text": [
      "[*********************100%***********************]  50 of 50 completed\n"
     ]
    }
   ],
   "source": [
    "ticker_dict['RUS2000'] = ticker_dict['RUS2000'].join(yf.download([ticker_ for ticker_ in tickers_rus[750:800]], how='outer')).sort_index(1)"
   ]
  },
  {
   "cell_type": "code",
   "execution_count": 228,
   "metadata": {},
   "outputs": [
    {
     "name": "stdout",
     "output_type": "stream",
     "text": [
      "[*********************100%***********************]  100 of 100 completed\n"
     ]
    }
   ],
   "source": [
    "ticker_dict['RUS2000'] = ticker_dict['RUS2000'].join(yf.download([ticker_ for ticker_ in tickers_rus[800:900]], how='outer')).sort_index(1)"
   ]
  },
  {
   "cell_type": "code",
   "execution_count": 229,
   "metadata": {},
   "outputs": [
    {
     "name": "stdout",
     "output_type": "stream",
     "text": [
      "[*********************100%***********************]  100 of 100 completed\n"
     ]
    }
   ],
   "source": [
    "ticker_dict['RUS2000'] = ticker_dict['RUS2000'].join(yf.download([ticker_ for ticker_ in tickers_rus[900:1000]], how='outer')).sort_index(1)"
   ]
  },
  {
   "cell_type": "code",
   "execution_count": 230,
   "metadata": {},
   "outputs": [
    {
     "name": "stdout",
     "output_type": "stream",
     "text": [
      "[*********************100%***********************]  100 of 100 completed\n"
     ]
    }
   ],
   "source": [
    "ticker_dict['RUS2000'] = ticker_dict['RUS2000'].join(yf.download([ticker_ for ticker_ in tickers_rus[1000:1100]], how='outer')).sort_index(1)"
   ]
  },
  {
   "cell_type": "code",
   "execution_count": 234,
   "metadata": {},
   "outputs": [
    {
     "name": "stdout",
     "output_type": "stream",
     "text": [
      "[*********************100%***********************]  100 of 100 completed\n"
     ]
    }
   ],
   "source": [
    "ticker_dict['RUS2000'] = ticker_dict['RUS2000'].join(yf.download([ticker_ for ticker_ in tickers_rus[1200:1300]], how='outer')).sort_index(1)"
   ]
  },
  {
   "cell_type": "code",
   "execution_count": 235,
   "metadata": {},
   "outputs": [
    {
     "name": "stdout",
     "output_type": "stream",
     "text": [
      "[*********************100%***********************]  100 of 100 completed\n"
     ]
    }
   ],
   "source": [
    "ticker_dict['RUS2000'] = ticker_dict['RUS2000'].join(yf.download([ticker_ for ticker_ in tickers_rus[1300:1400]], how='outer')).sort_index(1)"
   ]
  },
  {
   "cell_type": "code",
   "execution_count": 236,
   "metadata": {},
   "outputs": [
    {
     "name": "stdout",
     "output_type": "stream",
     "text": [
      "[*********************100%***********************]  100 of 100 completed\n"
     ]
    }
   ],
   "source": [
    "ticker_dict['RUS2000'] = ticker_dict['RUS2000'].join(yf.download([ticker_ for ticker_ in tickers_rus[1400:1500]], how='outer')).sort_index(1)"
   ]
  },
  {
   "cell_type": "code",
   "execution_count": 237,
   "metadata": {},
   "outputs": [
    {
     "name": "stdout",
     "output_type": "stream",
     "text": [
      "[*********************100%***********************]  100 of 100 completed\n"
     ]
    }
   ],
   "source": [
    "ticker_dict['RUS2000'] = ticker_dict['RUS2000'].join(yf.download([ticker_ for ticker_ in tickers_rus[1500:1600]], how='outer')).sort_index(1)"
   ]
  },
  {
   "cell_type": "code",
   "execution_count": 239,
   "metadata": {},
   "outputs": [
    {
     "name": "stdout",
     "output_type": "stream",
     "text": [
      "[*********************100%***********************]  100 of 100 completed\n",
      "[*********************************151%***********************************]  151 of 100 completed"
     ]
    }
   ],
   "source": [
    "ticker_dict['RUS2000'] = ticker_dict['RUS2000'].join(yf.download([ticker_ for ticker_ in tickers_rus[1600:1700]], how='outer')).sort_index(1)"
   ]
  },
  {
   "cell_type": "code",
   "execution_count": 240,
   "metadata": {},
   "outputs": [
    {
     "name": "stdout",
     "output_type": "stream",
     "text": [
      "[*********************100%***********************]  100 of 100 completed\n"
     ]
    }
   ],
   "source": [
    "ticker_dict['RUS2000'] = ticker_dict['RUS2000'].join(yf.download([ticker_ for ticker_ in tickers_rus[1700:1800]], how='outer')).sort_index(1)"
   ]
  },
  {
   "cell_type": "code",
   "execution_count": 241,
   "metadata": {},
   "outputs": [
    {
     "name": "stdout",
     "output_type": "stream",
     "text": [
      "[*********************100%***********************]  100 of 100 completed\n"
     ]
    }
   ],
   "source": [
    "ticker_dict['RUS2000'] = ticker_dict['RUS2000'].join(yf.download([ticker_ for ticker_ in tickers_rus[1800:1900]], how='outer')).sort_index(1)"
   ]
  },
  {
   "cell_type": "code",
   "execution_count": 242,
   "metadata": {},
   "outputs": [
    {
     "name": "stdout",
     "output_type": "stream",
     "text": [
      "[*********************100%***********************]  52 of 52 completed\n"
     ]
    }
   ],
   "source": [
    "ticker_dict['RUS2000'] = ticker_dict['RUS2000'].join(yf.download([ticker_ for ticker_ in tickers_rus[1900:2000]], how='outer')).sort_index(1)"
   ]
  },
  {
   "cell_type": "code",
   "execution_count": 247,
   "metadata": {},
   "outputs": [
    {
     "name": "stdout",
     "output_type": "stream",
     "text": [
      "[*********************100%***********************]  20 of 20 completed\n"
     ]
    }
   ],
   "source": [
    "ticker_dict['RUS2000'] = ticker_dict['RUS2000'].join(yf.download([ticker_ for ticker_ in tickers_rus[1100:1120]], how='outer')).sort_index(1)"
   ]
  },
  {
   "cell_type": "code",
   "execution_count": 249,
   "metadata": {},
   "outputs": [
    {
     "name": "stdout",
     "output_type": "stream",
     "text": [
      "[*********************100%***********************]  20 of 20 completed\n"
     ]
    }
   ],
   "source": [
    "ticker_dict['RUS2000'] = ticker_dict['RUS2000'].join(yf.download([ticker_ for ticker_ in tickers_rus[1120:1140]], how='outer')).sort_index(1)"
   ]
  },
  {
   "cell_type": "code",
   "execution_count": 251,
   "metadata": {},
   "outputs": [
    {
     "name": "stdout",
     "output_type": "stream",
     "text": [
      "[*********************100%***********************]  30 of 30 completed\n"
     ]
    }
   ],
   "source": [
    "ticker_dict['RUS2000'] = ticker_dict['RUS2000'].join(yf.download([ticker_ for ticker_ in tickers_rus[1170:1200]], how='outer')).sort_index(1)"
   ]
  },
  {
   "cell_type": "code",
   "execution_count": 271,
   "metadata": {},
   "outputs": [
    {
     "data": {
      "text/html": [
       "<div>\n",
       "<style scoped>\n",
       "    .dataframe tbody tr th:only-of-type {\n",
       "        vertical-align: middle;\n",
       "    }\n",
       "\n",
       "    .dataframe tbody tr th {\n",
       "        vertical-align: top;\n",
       "    }\n",
       "\n",
       "    .dataframe thead tr th {\n",
       "        text-align: left;\n",
       "    }\n",
       "\n",
       "    .dataframe thead tr:last-of-type th {\n",
       "        text-align: right;\n",
       "    }\n",
       "</style>\n",
       "<table border=\"1\" class=\"dataframe\">\n",
       "  <thead>\n",
       "    <tr>\n",
       "      <th></th>\n",
       "      <th colspan=\"10\" halign=\"left\">Adj Close</th>\n",
       "      <th>...</th>\n",
       "      <th colspan=\"10\" halign=\"left\">Volume</th>\n",
       "    </tr>\n",
       "    <tr>\n",
       "      <th></th>\n",
       "      <th>AAN</th>\n",
       "      <th>AAOI</th>\n",
       "      <th>AAON</th>\n",
       "      <th>AAT</th>\n",
       "      <th>AAWW</th>\n",
       "      <th>AAXN</th>\n",
       "      <th>ABCB</th>\n",
       "      <th>ABEO</th>\n",
       "      <th>ABG</th>\n",
       "      <th>ABM</th>\n",
       "      <th>...</th>\n",
       "      <th>YRCW</th>\n",
       "      <th>ZAGG</th>\n",
       "      <th>ZEUS</th>\n",
       "      <th>ZGNX</th>\n",
       "      <th>ZIOP</th>\n",
       "      <th>ZIXI</th>\n",
       "      <th>ZUMZ</th>\n",
       "      <th>ZUO</th>\n",
       "      <th>ZYNE</th>\n",
       "      <th>ZYXI</th>\n",
       "    </tr>\n",
       "    <tr>\n",
       "      <th>Date</th>\n",
       "      <th></th>\n",
       "      <th></th>\n",
       "      <th></th>\n",
       "      <th></th>\n",
       "      <th></th>\n",
       "      <th></th>\n",
       "      <th></th>\n",
       "      <th></th>\n",
       "      <th></th>\n",
       "      <th></th>\n",
       "      <th></th>\n",
       "      <th></th>\n",
       "      <th></th>\n",
       "      <th></th>\n",
       "      <th></th>\n",
       "      <th></th>\n",
       "      <th></th>\n",
       "      <th></th>\n",
       "      <th></th>\n",
       "      <th></th>\n",
       "      <th></th>\n",
       "    </tr>\n",
       "  </thead>\n",
       "  <tbody>\n",
       "    <tr>\n",
       "      <th>2010-01-04</th>\n",
       "      <td>14.266918</td>\n",
       "      <td>NaN</td>\n",
       "      <td>5.348952</td>\n",
       "      <td>NaN</td>\n",
       "      <td>38.200001</td>\n",
       "      <td>4.650000</td>\n",
       "      <td>6.803321</td>\n",
       "      <td>160.00</td>\n",
       "      <td>11.830000</td>\n",
       "      <td>16.767632</td>\n",
       "      <td>...</td>\n",
       "      <td>4900.0</td>\n",
       "      <td>202100.0</td>\n",
       "      <td>77500.0</td>\n",
       "      <td>NaN</td>\n",
       "      <td>276200.0</td>\n",
       "      <td>248100.0</td>\n",
       "      <td>268400.0</td>\n",
       "      <td>NaN</td>\n",
       "      <td>NaN</td>\n",
       "      <td>15000.0</td>\n",
       "    </tr>\n",
       "    <tr>\n",
       "      <th>2010-01-05</th>\n",
       "      <td>14.396208</td>\n",
       "      <td>NaN</td>\n",
       "      <td>5.193753</td>\n",
       "      <td>NaN</td>\n",
       "      <td>40.310001</td>\n",
       "      <td>4.700000</td>\n",
       "      <td>6.877776</td>\n",
       "      <td>162.50</td>\n",
       "      <td>12.390000</td>\n",
       "      <td>16.644604</td>\n",
       "      <td>...</td>\n",
       "      <td>3800.0</td>\n",
       "      <td>138900.0</td>\n",
       "      <td>160900.0</td>\n",
       "      <td>NaN</td>\n",
       "      <td>295100.0</td>\n",
       "      <td>152300.0</td>\n",
       "      <td>812300.0</td>\n",
       "      <td>NaN</td>\n",
       "      <td>NaN</td>\n",
       "      <td>14500.0</td>\n",
       "    </tr>\n",
       "    <tr>\n",
       "      <th>2010-01-06</th>\n",
       "      <td>14.396208</td>\n",
       "      <td>NaN</td>\n",
       "      <td>4.987716</td>\n",
       "      <td>NaN</td>\n",
       "      <td>38.630001</td>\n",
       "      <td>5.840000</td>\n",
       "      <td>7.017379</td>\n",
       "      <td>159.00</td>\n",
       "      <td>12.760000</td>\n",
       "      <td>16.644604</td>\n",
       "      <td>...</td>\n",
       "      <td>5400.0</td>\n",
       "      <td>99700.0</td>\n",
       "      <td>239100.0</td>\n",
       "      <td>NaN</td>\n",
       "      <td>249200.0</td>\n",
       "      <td>385900.0</td>\n",
       "      <td>507200.0</td>\n",
       "      <td>NaN</td>\n",
       "      <td>NaN</td>\n",
       "      <td>23800.0</td>\n",
       "    </tr>\n",
       "    <tr>\n",
       "      <th>2010-01-07</th>\n",
       "      <td>14.512568</td>\n",
       "      <td>NaN</td>\n",
       "      <td>5.172348</td>\n",
       "      <td>NaN</td>\n",
       "      <td>38.950001</td>\n",
       "      <td>5.660000</td>\n",
       "      <td>7.250051</td>\n",
       "      <td>162.50</td>\n",
       "      <td>13.050000</td>\n",
       "      <td>16.858912</td>\n",
       "      <td>...</td>\n",
       "      <td>3700.0</td>\n",
       "      <td>80100.0</td>\n",
       "      <td>144700.0</td>\n",
       "      <td>NaN</td>\n",
       "      <td>91500.0</td>\n",
       "      <td>3830700.0</td>\n",
       "      <td>1857900.0</td>\n",
       "      <td>NaN</td>\n",
       "      <td>NaN</td>\n",
       "      <td>300.0</td>\n",
       "    </tr>\n",
       "    <tr>\n",
       "      <th>2010-01-08</th>\n",
       "      <td>14.415604</td>\n",
       "      <td>NaN</td>\n",
       "      <td>5.233891</td>\n",
       "      <td>NaN</td>\n",
       "      <td>39.270000</td>\n",
       "      <td>5.560000</td>\n",
       "      <td>7.277972</td>\n",
       "      <td>164.50</td>\n",
       "      <td>13.150000</td>\n",
       "      <td>16.843035</td>\n",
       "      <td>...</td>\n",
       "      <td>1900.0</td>\n",
       "      <td>110600.0</td>\n",
       "      <td>150100.0</td>\n",
       "      <td>NaN</td>\n",
       "      <td>132700.0</td>\n",
       "      <td>1409000.0</td>\n",
       "      <td>334300.0</td>\n",
       "      <td>NaN</td>\n",
       "      <td>NaN</td>\n",
       "      <td>28500.0</td>\n",
       "    </tr>\n",
       "    <tr>\n",
       "      <th>...</th>\n",
       "      <td>...</td>\n",
       "      <td>...</td>\n",
       "      <td>...</td>\n",
       "      <td>...</td>\n",
       "      <td>...</td>\n",
       "      <td>...</td>\n",
       "      <td>...</td>\n",
       "      <td>...</td>\n",
       "      <td>...</td>\n",
       "      <td>...</td>\n",
       "      <td>...</td>\n",
       "      <td>...</td>\n",
       "      <td>...</td>\n",
       "      <td>...</td>\n",
       "      <td>...</td>\n",
       "      <td>...</td>\n",
       "      <td>...</td>\n",
       "      <td>...</td>\n",
       "      <td>...</td>\n",
       "      <td>...</td>\n",
       "      <td>...</td>\n",
       "    </tr>\n",
       "    <tr>\n",
       "      <th>2020-05-22</th>\n",
       "      <td>33.980000</td>\n",
       "      <td>8.61</td>\n",
       "      <td>51.519001</td>\n",
       "      <td>25.018784</td>\n",
       "      <td>39.279999</td>\n",
       "      <td>74.110001</td>\n",
       "      <td>21.650000</td>\n",
       "      <td>3.23</td>\n",
       "      <td>72.070000</td>\n",
       "      <td>32.580002</td>\n",
       "      <td>...</td>\n",
       "      <td>1102400.0</td>\n",
       "      <td>361400.0</td>\n",
       "      <td>33500.0</td>\n",
       "      <td>451000.0</td>\n",
       "      <td>2797500.0</td>\n",
       "      <td>897700.0</td>\n",
       "      <td>241400.0</td>\n",
       "      <td>1247600.0</td>\n",
       "      <td>2862900.0</td>\n",
       "      <td>396800.0</td>\n",
       "    </tr>\n",
       "    <tr>\n",
       "      <th>2020-05-26</th>\n",
       "      <td>36.310001</td>\n",
       "      <td>8.96</td>\n",
       "      <td>54.588215</td>\n",
       "      <td>26.837790</td>\n",
       "      <td>39.049999</td>\n",
       "      <td>75.800003</td>\n",
       "      <td>24.270000</td>\n",
       "      <td>3.05</td>\n",
       "      <td>77.389999</td>\n",
       "      <td>34.160000</td>\n",
       "      <td>...</td>\n",
       "      <td>2218600.0</td>\n",
       "      <td>508400.0</td>\n",
       "      <td>41700.0</td>\n",
       "      <td>910000.0</td>\n",
       "      <td>2531600.0</td>\n",
       "      <td>904000.0</td>\n",
       "      <td>312300.0</td>\n",
       "      <td>1217700.0</td>\n",
       "      <td>2215800.0</td>\n",
       "      <td>828300.0</td>\n",
       "    </tr>\n",
       "    <tr>\n",
       "      <th>2020-05-27</th>\n",
       "      <td>38.380001</td>\n",
       "      <td>9.05</td>\n",
       "      <td>54.787514</td>\n",
       "      <td>27.921242</td>\n",
       "      <td>39.189999</td>\n",
       "      <td>75.699997</td>\n",
       "      <td>26.730000</td>\n",
       "      <td>3.30</td>\n",
       "      <td>79.080002</td>\n",
       "      <td>33.500000</td>\n",
       "      <td>...</td>\n",
       "      <td>1944900.0</td>\n",
       "      <td>745800.0</td>\n",
       "      <td>54600.0</td>\n",
       "      <td>705800.0</td>\n",
       "      <td>2040400.0</td>\n",
       "      <td>1606500.0</td>\n",
       "      <td>455000.0</td>\n",
       "      <td>1455100.0</td>\n",
       "      <td>3422400.0</td>\n",
       "      <td>1036900.0</td>\n",
       "    </tr>\n",
       "    <tr>\n",
       "      <th>2020-05-28</th>\n",
       "      <td>36.240002</td>\n",
       "      <td>8.90</td>\n",
       "      <td>54.030178</td>\n",
       "      <td>26.996828</td>\n",
       "      <td>38.900002</td>\n",
       "      <td>73.199997</td>\n",
       "      <td>24.780001</td>\n",
       "      <td>3.24</td>\n",
       "      <td>76.209999</td>\n",
       "      <td>33.480000</td>\n",
       "      <td>...</td>\n",
       "      <td>903800.0</td>\n",
       "      <td>1001400.0</td>\n",
       "      <td>50800.0</td>\n",
       "      <td>770300.0</td>\n",
       "      <td>2598200.0</td>\n",
       "      <td>1242300.0</td>\n",
       "      <td>422500.0</td>\n",
       "      <td>1385300.0</td>\n",
       "      <td>1417200.0</td>\n",
       "      <td>695600.0</td>\n",
       "    </tr>\n",
       "    <tr>\n",
       "      <th>2020-05-29</th>\n",
       "      <td>36.910000</td>\n",
       "      <td>8.83</td>\n",
       "      <td>53.980350</td>\n",
       "      <td>26.012775</td>\n",
       "      <td>39.060001</td>\n",
       "      <td>75.959999</td>\n",
       "      <td>24.230000</td>\n",
       "      <td>3.31</td>\n",
       "      <td>72.279999</td>\n",
       "      <td>30.730000</td>\n",
       "      <td>...</td>\n",
       "      <td>770600.0</td>\n",
       "      <td>896100.0</td>\n",
       "      <td>156500.0</td>\n",
       "      <td>654400.0</td>\n",
       "      <td>2047600.0</td>\n",
       "      <td>1044700.0</td>\n",
       "      <td>591600.0</td>\n",
       "      <td>1468000.0</td>\n",
       "      <td>1224900.0</td>\n",
       "      <td>899100.0</td>\n",
       "    </tr>\n",
       "  </tbody>\n",
       "</table>\n",
       "<p>2620 rows × 10866 columns</p>\n",
       "</div>"
      ],
      "text/plain": [
       "            Adj Close                                                    \\\n",
       "                  AAN  AAOI       AAON        AAT       AAWW       AAXN   \n",
       "Date                                                                      \n",
       "2010-01-04  14.266918   NaN   5.348952        NaN  38.200001   4.650000   \n",
       "2010-01-05  14.396208   NaN   5.193753        NaN  40.310001   4.700000   \n",
       "2010-01-06  14.396208   NaN   4.987716        NaN  38.630001   5.840000   \n",
       "2010-01-07  14.512568   NaN   5.172348        NaN  38.950001   5.660000   \n",
       "2010-01-08  14.415604   NaN   5.233891        NaN  39.270000   5.560000   \n",
       "...               ...   ...        ...        ...        ...        ...   \n",
       "2020-05-22  33.980000  8.61  51.519001  25.018784  39.279999  74.110001   \n",
       "2020-05-26  36.310001  8.96  54.588215  26.837790  39.049999  75.800003   \n",
       "2020-05-27  38.380001  9.05  54.787514  27.921242  39.189999  75.699997   \n",
       "2020-05-28  36.240002  8.90  54.030178  26.996828  38.900002  73.199997   \n",
       "2020-05-29  36.910000  8.83  53.980350  26.012775  39.060001  75.959999   \n",
       "\n",
       "                                                     ...     Volume  \\\n",
       "                 ABCB    ABEO        ABG        ABM  ...       YRCW   \n",
       "Date                                                 ...              \n",
       "2010-01-04   6.803321  160.00  11.830000  16.767632  ...     4900.0   \n",
       "2010-01-05   6.877776  162.50  12.390000  16.644604  ...     3800.0   \n",
       "2010-01-06   7.017379  159.00  12.760000  16.644604  ...     5400.0   \n",
       "2010-01-07   7.250051  162.50  13.050000  16.858912  ...     3700.0   \n",
       "2010-01-08   7.277972  164.50  13.150000  16.843035  ...     1900.0   \n",
       "...               ...     ...        ...        ...  ...        ...   \n",
       "2020-05-22  21.650000    3.23  72.070000  32.580002  ...  1102400.0   \n",
       "2020-05-26  24.270000    3.05  77.389999  34.160000  ...  2218600.0   \n",
       "2020-05-27  26.730000    3.30  79.080002  33.500000  ...  1944900.0   \n",
       "2020-05-28  24.780001    3.24  76.209999  33.480000  ...   903800.0   \n",
       "2020-05-29  24.230000    3.31  72.279999  30.730000  ...   770600.0   \n",
       "\n",
       "                                                                            \\\n",
       "                 ZAGG      ZEUS      ZGNX       ZIOP       ZIXI       ZUMZ   \n",
       "Date                                                                         \n",
       "2010-01-04   202100.0   77500.0       NaN   276200.0   248100.0   268400.0   \n",
       "2010-01-05   138900.0  160900.0       NaN   295100.0   152300.0   812300.0   \n",
       "2010-01-06    99700.0  239100.0       NaN   249200.0   385900.0   507200.0   \n",
       "2010-01-07    80100.0  144700.0       NaN    91500.0  3830700.0  1857900.0   \n",
       "2010-01-08   110600.0  150100.0       NaN   132700.0  1409000.0   334300.0   \n",
       "...               ...       ...       ...        ...        ...        ...   \n",
       "2020-05-22   361400.0   33500.0  451000.0  2797500.0   897700.0   241400.0   \n",
       "2020-05-26   508400.0   41700.0  910000.0  2531600.0   904000.0   312300.0   \n",
       "2020-05-27   745800.0   54600.0  705800.0  2040400.0  1606500.0   455000.0   \n",
       "2020-05-28  1001400.0   50800.0  770300.0  2598200.0  1242300.0   422500.0   \n",
       "2020-05-29   896100.0  156500.0  654400.0  2047600.0  1044700.0   591600.0   \n",
       "\n",
       "                                             \n",
       "                  ZUO       ZYNE       ZYXI  \n",
       "Date                                         \n",
       "2010-01-04        NaN        NaN    15000.0  \n",
       "2010-01-05        NaN        NaN    14500.0  \n",
       "2010-01-06        NaN        NaN    23800.0  \n",
       "2010-01-07        NaN        NaN      300.0  \n",
       "2010-01-08        NaN        NaN    28500.0  \n",
       "...               ...        ...        ...  \n",
       "2020-05-22  1247600.0  2862900.0   396800.0  \n",
       "2020-05-26  1217700.0  2215800.0   828300.0  \n",
       "2020-05-27  1455100.0  3422400.0  1036900.0  \n",
       "2020-05-28  1385300.0  1417200.0   695600.0  \n",
       "2020-05-29  1468000.0  1224900.0   899100.0  \n",
       "\n",
       "[2620 rows x 10866 columns]"
      ]
     },
     "execution_count": 271,
     "metadata": {},
     "output_type": "execute_result"
    }
   ],
   "source": [
    "ticker_dict['RUS2000']"
   ]
  },
  {
   "cell_type": "code",
   "execution_count": 268,
   "metadata": {},
   "outputs": [],
   "source": [
    "with open(\"StockHistory.pickle\",\"wb\") as f:\n",
    "    pickle.dump(ticker_dict, f)\n",
    "with open(\"IndexHistory.pickle\",\"wb\") as f:\n",
    "    pickle.dump(index_dict, f)"
   ]
  },
  {
   "cell_type": "code",
   "execution_count": 272,
   "metadata": {},
   "outputs": [
    {
     "data": {
      "text/html": [
       "<div>\n",
       "<style scoped>\n",
       "    .dataframe tbody tr th:only-of-type {\n",
       "        vertical-align: middle;\n",
       "    }\n",
       "\n",
       "    .dataframe tbody tr th {\n",
       "        vertical-align: top;\n",
       "    }\n",
       "\n",
       "    .dataframe thead tr th {\n",
       "        text-align: left;\n",
       "    }\n",
       "\n",
       "    .dataframe thead tr:last-of-type th {\n",
       "        text-align: right;\n",
       "    }\n",
       "</style>\n",
       "<table border=\"1\" class=\"dataframe\">\n",
       "  <thead>\n",
       "    <tr>\n",
       "      <th></th>\n",
       "      <th colspan=\"10\" halign=\"left\">Adj Close</th>\n",
       "      <th>...</th>\n",
       "      <th colspan=\"10\" halign=\"left\">Volume</th>\n",
       "    </tr>\n",
       "    <tr>\n",
       "      <th></th>\n",
       "      <th>AAN</th>\n",
       "      <th>AAOI</th>\n",
       "      <th>AAON</th>\n",
       "      <th>AAT</th>\n",
       "      <th>AAWW</th>\n",
       "      <th>AAXN</th>\n",
       "      <th>ABCB</th>\n",
       "      <th>ABEO</th>\n",
       "      <th>ABG</th>\n",
       "      <th>ABM</th>\n",
       "      <th>...</th>\n",
       "      <th>YRCW</th>\n",
       "      <th>ZAGG</th>\n",
       "      <th>ZEUS</th>\n",
       "      <th>ZGNX</th>\n",
       "      <th>ZIOP</th>\n",
       "      <th>ZIXI</th>\n",
       "      <th>ZUMZ</th>\n",
       "      <th>ZUO</th>\n",
       "      <th>ZYNE</th>\n",
       "      <th>ZYXI</th>\n",
       "    </tr>\n",
       "    <tr>\n",
       "      <th>Date</th>\n",
       "      <th></th>\n",
       "      <th></th>\n",
       "      <th></th>\n",
       "      <th></th>\n",
       "      <th></th>\n",
       "      <th></th>\n",
       "      <th></th>\n",
       "      <th></th>\n",
       "      <th></th>\n",
       "      <th></th>\n",
       "      <th></th>\n",
       "      <th></th>\n",
       "      <th></th>\n",
       "      <th></th>\n",
       "      <th></th>\n",
       "      <th></th>\n",
       "      <th></th>\n",
       "      <th></th>\n",
       "      <th></th>\n",
       "      <th></th>\n",
       "      <th></th>\n",
       "    </tr>\n",
       "  </thead>\n",
       "  <tbody>\n",
       "    <tr>\n",
       "      <th>2010-01-04</th>\n",
       "      <td>14.266918</td>\n",
       "      <td>NaN</td>\n",
       "      <td>5.348952</td>\n",
       "      <td>NaN</td>\n",
       "      <td>38.200001</td>\n",
       "      <td>4.650000</td>\n",
       "      <td>6.803321</td>\n",
       "      <td>160.00</td>\n",
       "      <td>11.830000</td>\n",
       "      <td>16.767632</td>\n",
       "      <td>...</td>\n",
       "      <td>4900.0</td>\n",
       "      <td>202100.0</td>\n",
       "      <td>77500.0</td>\n",
       "      <td>NaN</td>\n",
       "      <td>276200.0</td>\n",
       "      <td>248100.0</td>\n",
       "      <td>268400.0</td>\n",
       "      <td>NaN</td>\n",
       "      <td>NaN</td>\n",
       "      <td>15000.0</td>\n",
       "    </tr>\n",
       "    <tr>\n",
       "      <th>2010-01-05</th>\n",
       "      <td>14.396208</td>\n",
       "      <td>NaN</td>\n",
       "      <td>5.193753</td>\n",
       "      <td>NaN</td>\n",
       "      <td>40.310001</td>\n",
       "      <td>4.700000</td>\n",
       "      <td>6.877776</td>\n",
       "      <td>162.50</td>\n",
       "      <td>12.390000</td>\n",
       "      <td>16.644604</td>\n",
       "      <td>...</td>\n",
       "      <td>3800.0</td>\n",
       "      <td>138900.0</td>\n",
       "      <td>160900.0</td>\n",
       "      <td>NaN</td>\n",
       "      <td>295100.0</td>\n",
       "      <td>152300.0</td>\n",
       "      <td>812300.0</td>\n",
       "      <td>NaN</td>\n",
       "      <td>NaN</td>\n",
       "      <td>14500.0</td>\n",
       "    </tr>\n",
       "    <tr>\n",
       "      <th>2010-01-06</th>\n",
       "      <td>14.396208</td>\n",
       "      <td>NaN</td>\n",
       "      <td>4.987716</td>\n",
       "      <td>NaN</td>\n",
       "      <td>38.630001</td>\n",
       "      <td>5.840000</td>\n",
       "      <td>7.017379</td>\n",
       "      <td>159.00</td>\n",
       "      <td>12.760000</td>\n",
       "      <td>16.644604</td>\n",
       "      <td>...</td>\n",
       "      <td>5400.0</td>\n",
       "      <td>99700.0</td>\n",
       "      <td>239100.0</td>\n",
       "      <td>NaN</td>\n",
       "      <td>249200.0</td>\n",
       "      <td>385900.0</td>\n",
       "      <td>507200.0</td>\n",
       "      <td>NaN</td>\n",
       "      <td>NaN</td>\n",
       "      <td>23800.0</td>\n",
       "    </tr>\n",
       "    <tr>\n",
       "      <th>2010-01-07</th>\n",
       "      <td>14.512568</td>\n",
       "      <td>NaN</td>\n",
       "      <td>5.172348</td>\n",
       "      <td>NaN</td>\n",
       "      <td>38.950001</td>\n",
       "      <td>5.660000</td>\n",
       "      <td>7.250051</td>\n",
       "      <td>162.50</td>\n",
       "      <td>13.050000</td>\n",
       "      <td>16.858912</td>\n",
       "      <td>...</td>\n",
       "      <td>3700.0</td>\n",
       "      <td>80100.0</td>\n",
       "      <td>144700.0</td>\n",
       "      <td>NaN</td>\n",
       "      <td>91500.0</td>\n",
       "      <td>3830700.0</td>\n",
       "      <td>1857900.0</td>\n",
       "      <td>NaN</td>\n",
       "      <td>NaN</td>\n",
       "      <td>300.0</td>\n",
       "    </tr>\n",
       "    <tr>\n",
       "      <th>2010-01-08</th>\n",
       "      <td>14.415604</td>\n",
       "      <td>NaN</td>\n",
       "      <td>5.233891</td>\n",
       "      <td>NaN</td>\n",
       "      <td>39.270000</td>\n",
       "      <td>5.560000</td>\n",
       "      <td>7.277972</td>\n",
       "      <td>164.50</td>\n",
       "      <td>13.150000</td>\n",
       "      <td>16.843035</td>\n",
       "      <td>...</td>\n",
       "      <td>1900.0</td>\n",
       "      <td>110600.0</td>\n",
       "      <td>150100.0</td>\n",
       "      <td>NaN</td>\n",
       "      <td>132700.0</td>\n",
       "      <td>1409000.0</td>\n",
       "      <td>334300.0</td>\n",
       "      <td>NaN</td>\n",
       "      <td>NaN</td>\n",
       "      <td>28500.0</td>\n",
       "    </tr>\n",
       "    <tr>\n",
       "      <th>...</th>\n",
       "      <td>...</td>\n",
       "      <td>...</td>\n",
       "      <td>...</td>\n",
       "      <td>...</td>\n",
       "      <td>...</td>\n",
       "      <td>...</td>\n",
       "      <td>...</td>\n",
       "      <td>...</td>\n",
       "      <td>...</td>\n",
       "      <td>...</td>\n",
       "      <td>...</td>\n",
       "      <td>...</td>\n",
       "      <td>...</td>\n",
       "      <td>...</td>\n",
       "      <td>...</td>\n",
       "      <td>...</td>\n",
       "      <td>...</td>\n",
       "      <td>...</td>\n",
       "      <td>...</td>\n",
       "      <td>...</td>\n",
       "      <td>...</td>\n",
       "    </tr>\n",
       "    <tr>\n",
       "      <th>2020-05-22</th>\n",
       "      <td>33.980000</td>\n",
       "      <td>8.61</td>\n",
       "      <td>51.519001</td>\n",
       "      <td>25.018784</td>\n",
       "      <td>39.279999</td>\n",
       "      <td>74.110001</td>\n",
       "      <td>21.650000</td>\n",
       "      <td>3.23</td>\n",
       "      <td>72.070000</td>\n",
       "      <td>32.580002</td>\n",
       "      <td>...</td>\n",
       "      <td>1102400.0</td>\n",
       "      <td>361400.0</td>\n",
       "      <td>33500.0</td>\n",
       "      <td>451000.0</td>\n",
       "      <td>2797500.0</td>\n",
       "      <td>897700.0</td>\n",
       "      <td>241400.0</td>\n",
       "      <td>1247600.0</td>\n",
       "      <td>2862900.0</td>\n",
       "      <td>396800.0</td>\n",
       "    </tr>\n",
       "    <tr>\n",
       "      <th>2020-05-26</th>\n",
       "      <td>36.310001</td>\n",
       "      <td>8.96</td>\n",
       "      <td>54.588215</td>\n",
       "      <td>26.837790</td>\n",
       "      <td>39.049999</td>\n",
       "      <td>75.800003</td>\n",
       "      <td>24.270000</td>\n",
       "      <td>3.05</td>\n",
       "      <td>77.389999</td>\n",
       "      <td>34.160000</td>\n",
       "      <td>...</td>\n",
       "      <td>2218600.0</td>\n",
       "      <td>508400.0</td>\n",
       "      <td>41700.0</td>\n",
       "      <td>910000.0</td>\n",
       "      <td>2531600.0</td>\n",
       "      <td>904000.0</td>\n",
       "      <td>312300.0</td>\n",
       "      <td>1217700.0</td>\n",
       "      <td>2215800.0</td>\n",
       "      <td>828300.0</td>\n",
       "    </tr>\n",
       "    <tr>\n",
       "      <th>2020-05-27</th>\n",
       "      <td>38.380001</td>\n",
       "      <td>9.05</td>\n",
       "      <td>54.787514</td>\n",
       "      <td>27.921242</td>\n",
       "      <td>39.189999</td>\n",
       "      <td>75.699997</td>\n",
       "      <td>26.730000</td>\n",
       "      <td>3.30</td>\n",
       "      <td>79.080002</td>\n",
       "      <td>33.500000</td>\n",
       "      <td>...</td>\n",
       "      <td>1944900.0</td>\n",
       "      <td>745800.0</td>\n",
       "      <td>54600.0</td>\n",
       "      <td>705800.0</td>\n",
       "      <td>2040400.0</td>\n",
       "      <td>1606500.0</td>\n",
       "      <td>455000.0</td>\n",
       "      <td>1455100.0</td>\n",
       "      <td>3422400.0</td>\n",
       "      <td>1036900.0</td>\n",
       "    </tr>\n",
       "    <tr>\n",
       "      <th>2020-05-28</th>\n",
       "      <td>36.240002</td>\n",
       "      <td>8.90</td>\n",
       "      <td>54.030178</td>\n",
       "      <td>26.996828</td>\n",
       "      <td>38.900002</td>\n",
       "      <td>73.199997</td>\n",
       "      <td>24.780001</td>\n",
       "      <td>3.24</td>\n",
       "      <td>76.209999</td>\n",
       "      <td>33.480000</td>\n",
       "      <td>...</td>\n",
       "      <td>903800.0</td>\n",
       "      <td>1001400.0</td>\n",
       "      <td>50800.0</td>\n",
       "      <td>770300.0</td>\n",
       "      <td>2598200.0</td>\n",
       "      <td>1242300.0</td>\n",
       "      <td>422500.0</td>\n",
       "      <td>1385300.0</td>\n",
       "      <td>1417200.0</td>\n",
       "      <td>695600.0</td>\n",
       "    </tr>\n",
       "    <tr>\n",
       "      <th>2020-05-29</th>\n",
       "      <td>36.910000</td>\n",
       "      <td>8.83</td>\n",
       "      <td>53.980350</td>\n",
       "      <td>26.012775</td>\n",
       "      <td>39.060001</td>\n",
       "      <td>75.959999</td>\n",
       "      <td>24.230000</td>\n",
       "      <td>3.31</td>\n",
       "      <td>72.279999</td>\n",
       "      <td>30.730000</td>\n",
       "      <td>...</td>\n",
       "      <td>770600.0</td>\n",
       "      <td>896100.0</td>\n",
       "      <td>156500.0</td>\n",
       "      <td>654400.0</td>\n",
       "      <td>2047600.0</td>\n",
       "      <td>1044700.0</td>\n",
       "      <td>591600.0</td>\n",
       "      <td>1468000.0</td>\n",
       "      <td>1224900.0</td>\n",
       "      <td>899100.0</td>\n",
       "    </tr>\n",
       "  </tbody>\n",
       "</table>\n",
       "<p>2620 rows × 10866 columns</p>\n",
       "</div>"
      ],
      "text/plain": [
       "            Adj Close                                                    \\\n",
       "                  AAN  AAOI       AAON        AAT       AAWW       AAXN   \n",
       "Date                                                                      \n",
       "2010-01-04  14.266918   NaN   5.348952        NaN  38.200001   4.650000   \n",
       "2010-01-05  14.396208   NaN   5.193753        NaN  40.310001   4.700000   \n",
       "2010-01-06  14.396208   NaN   4.987716        NaN  38.630001   5.840000   \n",
       "2010-01-07  14.512568   NaN   5.172348        NaN  38.950001   5.660000   \n",
       "2010-01-08  14.415604   NaN   5.233891        NaN  39.270000   5.560000   \n",
       "...               ...   ...        ...        ...        ...        ...   \n",
       "2020-05-22  33.980000  8.61  51.519001  25.018784  39.279999  74.110001   \n",
       "2020-05-26  36.310001  8.96  54.588215  26.837790  39.049999  75.800003   \n",
       "2020-05-27  38.380001  9.05  54.787514  27.921242  39.189999  75.699997   \n",
       "2020-05-28  36.240002  8.90  54.030178  26.996828  38.900002  73.199997   \n",
       "2020-05-29  36.910000  8.83  53.980350  26.012775  39.060001  75.959999   \n",
       "\n",
       "                                                     ...     Volume  \\\n",
       "                 ABCB    ABEO        ABG        ABM  ...       YRCW   \n",
       "Date                                                 ...              \n",
       "2010-01-04   6.803321  160.00  11.830000  16.767632  ...     4900.0   \n",
       "2010-01-05   6.877776  162.50  12.390000  16.644604  ...     3800.0   \n",
       "2010-01-06   7.017379  159.00  12.760000  16.644604  ...     5400.0   \n",
       "2010-01-07   7.250051  162.50  13.050000  16.858912  ...     3700.0   \n",
       "2010-01-08   7.277972  164.50  13.150000  16.843035  ...     1900.0   \n",
       "...               ...     ...        ...        ...  ...        ...   \n",
       "2020-05-22  21.650000    3.23  72.070000  32.580002  ...  1102400.0   \n",
       "2020-05-26  24.270000    3.05  77.389999  34.160000  ...  2218600.0   \n",
       "2020-05-27  26.730000    3.30  79.080002  33.500000  ...  1944900.0   \n",
       "2020-05-28  24.780001    3.24  76.209999  33.480000  ...   903800.0   \n",
       "2020-05-29  24.230000    3.31  72.279999  30.730000  ...   770600.0   \n",
       "\n",
       "                                                                            \\\n",
       "                 ZAGG      ZEUS      ZGNX       ZIOP       ZIXI       ZUMZ   \n",
       "Date                                                                         \n",
       "2010-01-04   202100.0   77500.0       NaN   276200.0   248100.0   268400.0   \n",
       "2010-01-05   138900.0  160900.0       NaN   295100.0   152300.0   812300.0   \n",
       "2010-01-06    99700.0  239100.0       NaN   249200.0   385900.0   507200.0   \n",
       "2010-01-07    80100.0  144700.0       NaN    91500.0  3830700.0  1857900.0   \n",
       "2010-01-08   110600.0  150100.0       NaN   132700.0  1409000.0   334300.0   \n",
       "...               ...       ...       ...        ...        ...        ...   \n",
       "2020-05-22   361400.0   33500.0  451000.0  2797500.0   897700.0   241400.0   \n",
       "2020-05-26   508400.0   41700.0  910000.0  2531600.0   904000.0   312300.0   \n",
       "2020-05-27   745800.0   54600.0  705800.0  2040400.0  1606500.0   455000.0   \n",
       "2020-05-28  1001400.0   50800.0  770300.0  2598200.0  1242300.0   422500.0   \n",
       "2020-05-29   896100.0  156500.0  654400.0  2047600.0  1044700.0   591600.0   \n",
       "\n",
       "                                             \n",
       "                  ZUO       ZYNE       ZYXI  \n",
       "Date                                         \n",
       "2010-01-04        NaN        NaN    15000.0  \n",
       "2010-01-05        NaN        NaN    14500.0  \n",
       "2010-01-06        NaN        NaN    23800.0  \n",
       "2010-01-07        NaN        NaN      300.0  \n",
       "2010-01-08        NaN        NaN    28500.0  \n",
       "...               ...        ...        ...  \n",
       "2020-05-22  1247600.0  2862900.0   396800.0  \n",
       "2020-05-26  1217700.0  2215800.0   828300.0  \n",
       "2020-05-27  1455100.0  3422400.0  1036900.0  \n",
       "2020-05-28  1385300.0  1417200.0   695600.0  \n",
       "2020-05-29  1468000.0  1224900.0   899100.0  \n",
       "\n",
       "[2620 rows x 10866 columns]"
      ]
     },
     "execution_count": 272,
     "metadata": {},
     "output_type": "execute_result"
    }
   ],
   "source": [
    "with open(\"StockHistory.pickle\",\"rb\") as f:\n",
    "    stock_prices = pickle.load(f)\n",
    "stock_prices['RUS2000']"
   ]
  },
  {
   "cell_type": "code",
   "execution_count": null,
   "metadata": {},
   "outputs": [],
   "source": []
  }
 ],
 "metadata": {
  "kernelspec": {
   "display_name": "Python 3",
   "language": "python",
   "name": "python3"
  },
  "language_info": {
   "codemirror_mode": {
    "name": "ipython",
    "version": 3
   },
   "file_extension": ".py",
   "mimetype": "text/x-python",
   "name": "python",
   "nbconvert_exporter": "python",
   "pygments_lexer": "ipython3",
   "version": "3.7.3"
  }
 },
 "nbformat": 4,
 "nbformat_minor": 4
}
